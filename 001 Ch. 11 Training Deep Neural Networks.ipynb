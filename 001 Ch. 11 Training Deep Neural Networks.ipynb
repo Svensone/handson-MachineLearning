{
 "cells": [
  {
   "cell_type": "markdown",
   "metadata": {},
   "source": [
    "## Training Deep Neural Networks\n",
    "\n",
    "1. Vanishing / Exploding Gradients\n",
    "    - Xavier (Glorot) and He Initialiation (custom kernel_init)\n",
    "    - non-saturational activation (leaky-ReLU, Parametric and Random leaky, Elu, Scaled Relu)\n",
    "    - Batch-Normalization (add before/after activ. no standardization needed, fixup Initial 2019 maybe obsolete ?\n",
    "    - Gradient Clipping (clip_norm/-value, for RNN since no BN)\n",
    "    \n",
    "2. Reusing pretrained Layers\n",
    "\n",
    "- \n",
    "3. Faster Optimizers\n",
    "4. Avoiding Overfitting Through Regularization\n",
    "5. Summary and Practical Guidelines\n"
   ]
  },
  {
   "cell_type": "code",
   "execution_count": 1,
   "metadata": {},
   "outputs": [],
   "source": [
    "## Setup\n",
    "# Python ≥3.5 is required\n",
    "import sys\n",
    "assert sys.version_info >= (3, 5)\n",
    "\n",
    "# Scikit-Learn ≥0.20 is required\n",
    "import sklearn\n",
    "assert sklearn.__version__ >= \"0.20\"\n",
    "\n",
    "try:\n",
    "    # %tensorflow_version only exists in Colab.\n",
    "    %tensorflow_version 2.x\n",
    "except Exception:\n",
    "    pass\n",
    "\n",
    "# TensorFlow ≥2.0 is required\n",
    "import tensorflow as tf\n",
    "from tensorflow import keras\n",
    "assert tf.__version__ >= \"2.0\"\n",
    "\n",
    "%load_ext tensorboard\n",
    "\n",
    "# Common imports\n",
    "import numpy as np\n",
    "import os\n",
    "\n",
    "# to make this notebook's output stable across runs\n",
    "np.random.seed(42)\n",
    "\n",
    "# To plot pretty figures\n",
    "%matplotlib inline\n",
    "import matplotlib as mpl\n",
    "import matplotlib.pyplot as plt\n",
    "mpl.rc('axes', labelsize=14)\n",
    "mpl.rc('xtick', labelsize=12)\n",
    "mpl.rc('ytick', labelsize=12)\n",
    "\n",
    "# Where to save the figures\n",
    "PROJECT_ROOT_DIR = \".\"\n",
    "CHAPTER_ID = \"deep\"\n",
    "IMAGES_PATH = os.path.join(PROJECT_ROOT_DIR, \"images\", CHAPTER_ID)\n",
    "os.makedirs(IMAGES_PATH, exist_ok=True)\n",
    "\n",
    "def save_fig(fig_id, tight_layout=True, fig_extension=\"png\", resolution=300):\n",
    "    path = os.path.join(IMAGES_PATH, fig_id + \".\" + fig_extension)\n",
    "    print(\"Saving figure\", fig_id)\n",
    "    if tight_layout:\n",
    "        plt.tight_layout()\n",
    "    plt.savefig(path, format=fig_extension, dpi=resolution)"
   ]
  },
  {
   "cell_type": "markdown",
   "metadata": {},
   "source": [
    "## 1. Vanishing / Exploding Gradients\n",
    "\n",
    "resaon : all take sigmoid activation (since Mother Nature is using it in biol. neurons :D)\n",
    "\n",
    "- graphical explanation - saturation at the tails\n",
    "\n",
    "    "
   ]
  },
  {
   "cell_type": "code",
   "execution_count": 4,
   "metadata": {},
   "outputs": [
    {
     "name": "stdout",
     "output_type": "stream",
     "text": [
      "Saving figure sigmoid_saturation_plot\n"
     ]
    },
    {
     "data": {
      "image/png": "[encoded data removed]",
      "text/plain": [
       "<Figure size 432x288 with 1 Axes>"
      ]
     },
     "metadata": {
      "needs_background": "light"
     },
     "output_type": "display_data"
    }
   ],
   "source": [
    "def logit(z):\n",
    "    return 1 / (1 + np.exp(-z))\n",
    "z = np.linspace(-5, 5, 200)\n",
    "\n",
    "plt.plot([-5, 5], [0, 0], 'k-')\n",
    "plt.plot([-5, 5], [1, 1], 'k--')\n",
    "plt.plot([0, 0], [-0.2, 1.2], 'k-')\n",
    "plt.plot([-5, 5], [-3/4, 7/4], 'g--')\n",
    "plt.plot(z, logit(z), \"b-\", linewidth=2)\n",
    "props = dict(facecolor='black', shrink=0.1)\n",
    "plt.annotate('Saturating', xytext=(3.5, 0.7), xy=(5, 1), arrowprops=props, fontsize=14, ha=\"center\")\n",
    "plt.annotate('Saturating', xytext=(-3.5, 0.3), xy=(-5, 0), arrowprops=props, fontsize=14, ha=\"center\")\n",
    "plt.annotate('Linear', xytext=(2, 0.2), xy=(0, 0.5), arrowprops=props, fontsize=14, ha=\"center\")\n",
    "plt.grid(True)\n",
    "plt.title(\"Sigmoid activation function\", fontsize=14)\n",
    "plt.axis([-5, 5, -0.2, 1.2])\n",
    "\n",
    "save_fig(\"sigmoid_saturation_plot\")\n",
    "plt.show()"
   ]
  },
  {
   "cell_type": "markdown",
   "metadata": {},
   "source": [
    "## Xavier (Glorot) and He Initializations\n",
    "\n",
    "- initialization and different activation eliminates van./expl. Gradients risk\n",
    "\n"
   ]
  },
  {
   "cell_type": "code",
   "execution_count": 5,
   "metadata": {
    "collapsed": true
   },
   "outputs": [
    {
     "data": {
      "text/plain": [
       "['Constant',\n",
       " 'GlorotNormal',\n",
       " 'GlorotUniform',\n",
       " 'Identity',\n",
       " 'Initializer',\n",
       " 'Ones',\n",
       " 'Orthogonal',\n",
       " 'RandomNormal',\n",
       " 'RandomUniform',\n",
       " 'TruncatedNormal',\n",
       " 'VarianceScaling',\n",
       " 'Zeros',\n",
       " 'constant',\n",
       " 'deserialize',\n",
       " 'get',\n",
       " 'glorot_normal',\n",
       " 'glorot_uniform',\n",
       " 'he_normal',\n",
       " 'he_uniform',\n",
       " 'identity',\n",
       " 'lecun_normal',\n",
       " 'lecun_uniform',\n",
       " 'ones',\n",
       " 'orthogonal',\n",
       " 'serialize',\n",
       " 'zeros']"
      ]
     },
     "execution_count": 5,
     "metadata": {},
     "output_type": "execute_result"
    }
   ],
   "source": [
    "[name for name in dir(keras.initializers) if not name.startswith(\"_\")]"
   ]
  },
  {
   "cell_type": "code",
   "execution_count": 7,
   "metadata": {},
   "outputs": [
    {
     "data": {
      "text/plain": [
       "<tensorflow.python.keras.layers.core.Dense at 0x21ecebf68c8>"
      ]
     },
     "execution_count": 7,
     "metadata": {},
     "output_type": "execute_result"
    }
   ],
   "source": [
    "keras.layers.Dense(300, activation='relu', kernel_initializer=\"he_normal\") # or he_uniform - same"
   ]
  },
  {
   "cell_type": "code",
   "execution_count": 8,
   "metadata": {},
   "outputs": [
    {
     "data": {
      "text/plain": [
       "<tensorflow.python.keras.layers.core.Dense at 0x21ecebf66c8>"
      ]
     },
     "execution_count": 8,
     "metadata": {},
     "output_type": "execute_result"
    }
   ],
   "source": [
    "# customize initializer\n",
    "\n",
    "init = keras.initializers.VarianceScaling(scale=2, mode=\"fan_avg\",\n",
    "                                         distribution=\"uniform\")\n",
    "\n",
    "keras.layers.Dense(300, activation='relu', kernel_initializer=init)\n"
   ]
  },
  {
   "cell_type": "code",
   "execution_count": null,
   "metadata": {},
   "outputs": [],
   "source": [
    "## Non-Saturating Activiation Functions\n",
    "\n",
    "- leaky relu\n",
    "- parametric leaky rectified linear unit\n",
    "- randomized relu\n",
    "- elu\n",
    "- scaled elu\n",
    "- "
   ]
  },
  {
   "cell_type": "code",
   "execution_count": 9,
   "metadata": {},
   "outputs": [
    {
     "name": "stdout",
     "output_type": "stream",
     "text": [
      "Saving figure leaky_relu_plot\n"
     ]
    },
    {
     "data": {
      "image/png": "[encoded data removed]",
      "text/plain": [
       "<Figure size 432x288 with 1 Axes>"
      ]
     },
     "metadata": {
      "needs_background": "light"
     },
     "output_type": "display_data"
    }
   ],
   "source": [
    "# leaky Relu\n",
    "\n",
    "def leaky_relu(z, alpha=0.01):\n",
    "    return np.maximum(alpha*z, z)\n",
    "plt.plot(z, leaky_relu(z, 0.05), \"b-\", linewidth=2)\n",
    "plt.plot([-5, 5], [0, 0], 'k-')\n",
    "plt.plot([0, 0], [-0.5, 4.2], 'k-')\n",
    "plt.grid(True)\n",
    "props = dict(facecolor='black', shrink=0.1)\n",
    "plt.annotate('Leak', xytext=(-3.5, 0.5), xy=(-5, -0.2), arrowprops=props, fontsize=14, ha=\"center\")\n",
    "plt.title(\"Leaky ReLU activation function\", fontsize=14)\n",
    "plt.axis([-5, 5, -0.5, 4.2])\n",
    "\n",
    "save_fig(\"leaky_relu_plot\")\n",
    "plt.show()"
   ]
  },
  {
   "cell_type": "code",
   "execution_count": 10,
   "metadata": {
    "collapsed": true
   },
   "outputs": [
    {
     "data": {
      "text/plain": [
       "['deserialize',\n",
       " 'elu',\n",
       " 'exponential',\n",
       " 'get',\n",
       " 'hard_sigmoid',\n",
       " 'linear',\n",
       " 'relu',\n",
       " 'selu',\n",
       " 'serialize',\n",
       " 'sigmoid',\n",
       " 'softmax',\n",
       " 'softplus',\n",
       " 'softsign',\n",
       " 'tanh']"
      ]
     },
     "execution_count": 10,
     "metadata": {},
     "output_type": "execute_result"
    }
   ],
   "source": [
    "[m for m in dir(keras.activations) if not m.startswith(\"_\")]"
   ]
  },
  {
   "cell_type": "code",
   "execution_count": 11,
   "metadata": {},
   "outputs": [
    {
     "data": {
      "text/plain": [
       "['LeakyReLU', 'PReLU', 'ReLU', 'ThresholdedReLU']"
      ]
     },
     "execution_count": 11,
     "metadata": {},
     "output_type": "execute_result"
    }
   ],
   "source": [
    "[m for m in dir(keras.layers) if \"relu\" in m.lower()]"
   ]
  },
  {
   "cell_type": "code",
   "execution_count": 2,
   "metadata": {},
   "outputs": [],
   "source": [
    "# NN with leaky relu and He Normal Initializer\n",
    "\n",
    "# data\n",
    "(X_train_full, y_train_full), (X_test, y_test) = keras.datasets.fashion_mnist.load_data()\n",
    "X_train_full = X_train_full / 255.0\n",
    "X_test = X_test / 255.0\n",
    "X_valid, X_train = X_train_full[:5000], X_train_full[5000:]\n",
    "y_valid, y_train = y_train_full[:5000], y_train_full[5000:]\n",
    "\n",
    "# set up model\n",
    "\n",
    "model = keras.models.Sequential([\n",
    "    keras.layers.Flatten(input_shape=[28, 28]),\n",
    "    keras.layers.Dense(300, kernel_initializer='he_normal'),\n",
    "    keras.layers.LeakyReLU(),\n",
    "    keras.layers.Dense(100, kernel_initializer='he_normal'),\n",
    "    keras.layers.LeakyReLU(),\n",
    "    keras.layers.Dense(10, activation=\"softmax\")\n",
    "])\n",
    "\n",
    "#compile and train\n",
    "\n",
    "model.compile(loss=\"sparse_categorical_crossentropy\",\n",
    "              optimizer=keras.optimizers.SGD(lr=1e-3),\n",
    "              metrics=[\"accuracy\"])"
   ]
  },
  {
   "cell_type": "code",
   "execution_count": 14,
   "metadata": {
    "collapsed": true
   },
   "outputs": [
    {
     "name": "stdout",
     "output_type": "stream",
     "text": [
      "Train on 55000 samples, validate on 5000 samples\n",
      "Epoch 1/10\n",
      "55000/55000 [==============================] - 9s 163us/sample - loss: 1.3151 - accuracy: 0.5922 - val_loss: 0.9042 - val_accuracy: 0.7200\n",
      "Epoch 2/10\n",
      "55000/55000 [==============================] - 7s 135us/sample - loss: 0.8140 - accuracy: 0.7349 - val_loss: 0.7240 - val_accuracy: 0.7686\n",
      "Epoch 3/10\n",
      "55000/55000 [==============================] - 8s 138us/sample - loss: 0.6911 - accuracy: 0.7767 - val_loss: 0.6408 - val_accuracy: 0.7946\n",
      "Epoch 4/10\n",
      "55000/55000 [==============================] - 8s 153us/sample - loss: 0.6256 - accuracy: 0.7968 - val_loss: 0.5900 - val_accuracy: 0.8116\n",
      "Epoch 5/10\n",
      "55000/55000 [==============================] - 8s 153us/sample - loss: 0.5837 - accuracy: 0.8100 - val_loss: 0.5589 - val_accuracy: 0.8182\n",
      "Epoch 6/10\n",
      "55000/55000 [==============================] - 7s 135us/sample - loss: 0.5552 - accuracy: 0.8166 - val_loss: 0.5340 - val_accuracy: 0.8284\n",
      "Epoch 7/10\n",
      "55000/55000 [==============================] - 7s 136us/sample - loss: 0.5343 - accuracy: 0.8235 - val_loss: 0.5141 - val_accuracy: 0.8310\n",
      "Epoch 8/10\n",
      "55000/55000 [==============================] - 8s 140us/sample - loss: 0.5180 - accuracy: 0.8263 - val_loss: 0.5013 - val_accuracy: 0.8322\n",
      "Epoch 9/10\n",
      "55000/55000 [==============================] - 8s 137us/sample - loss: 0.5050 - accuracy: 0.8307 - val_loss: 0.4904 - val_accuracy: 0.8356\n",
      "Epoch 10/10\n",
      "55000/55000 [==============================] - 8s 137us/sample - loss: 0.4942 - accuracy: 0.8343 - val_loss: 0.4798 - val_accuracy: 0.8402\n"
     ]
    }
   ],
   "source": [
    "# train\n",
    "\n",
    "history = model.fit(X_train, y_train, epochs=10,\n",
    "                    validation_data=(X_valid, y_valid))"
   ]
  },
  {
   "cell_type": "code",
   "execution_count": 15,
   "metadata": {},
   "outputs": [
    {
     "name": "stdout",
     "output_type": "stream",
     "text": [
      "Saving figure elu_plot\n"
     ]
    },
    {
     "data": {
      "image/png": "[encoded data removed]",
      "text/plain": [
       "<Figure size 432x288 with 1 Axes>"
      ]
     },
     "metadata": {
      "needs_background": "light"
     },
     "output_type": "display_data"
    }
   ],
   "source": [
    "## ELU\n",
    "\n",
    "def elu(z, alpha=1):\n",
    "    return np.where(z < 0, alpha * (np.exp(z) - 1), z)\n",
    "\n",
    "plt.plot(z, elu(z), \"b-\", linewidth=2)\n",
    "plt.plot([-5, 5], [0, 0], 'k-')\n",
    "plt.plot([-5, 5], [-1, -1], 'k--')\n",
    "plt.plot([0, 0], [-2.2, 3.2], 'k-')\n",
    "plt.grid(True)\n",
    "plt.title(r\"ELU activation function ($\\alpha=1$)\", fontsize=14)\n",
    "plt.axis([-5, 5, -2.2, 3.2])\n",
    "\n",
    "save_fig(\"elu_plot\")\n",
    "plt.show()"
   ]
  },
  {
   "cell_type": "code",
   "execution_count": 17,
   "metadata": {},
   "outputs": [
    {
     "data": {
      "text/plain": [
       "<tensorflow.python.keras.layers.core.Dense at 0x21ece783608>"
      ]
     },
     "execution_count": 17,
     "metadata": {},
     "output_type": "execute_result"
    }
   ],
   "source": [
    "keras.layers.Dense(10, activation=\"elu\")"
   ]
  },
  {
   "cell_type": "markdown",
   "metadata": {},
   "source": [
    "### SELU (scaled exponential linear unit)"
   ]
  },
  {
   "cell_type": "markdown",
   "metadata": {},
   "source": [
    "This activation function was proposed in this [great paper](https://arxiv.org/pdf/1706.02515.pdf) by Günter Klambauer, Thomas Unterthiner and Andreas Mayr, published in June 2017. During training, a neural network composed exclusively of a stack of dense layers using the SELU activation function and LeCun initialization will self-normalize: the output of each layer will tend to preserve the same mean and variance during training, which solves the vanishing/exploding gradients problem. As a result, this activation function outperforms the other activation functions very significantly for such neural nets, so you should really try it out. Unfortunately, the self-normalizing property of the SELU activation function is easily broken: you cannot use ℓ<sub>1</sub> or ℓ<sub>2</sub> regularization, regular dropout, max-norm, skip connections or other non-sequential topologies (so recurrent neural networks won't self-normalize). However, in practice it works quite well with sequential CNNs. If you break self-normalization, SELU will not necessarily outperform other activation functions."
   ]
  },
  {
   "cell_type": "code",
   "execution_count": 12,
   "metadata": {},
   "outputs": [
    {
     "ename": "NameError",
     "evalue": "name 'z' is not defined",
     "output_type": "error",
     "traceback": [
      "\u001b[1;31m---------------------------------------------------------------------------\u001b[0m",
      "\u001b[1;31mNameError\u001b[0m                                 Traceback (most recent call last)",
      "\u001b[1;32m<ipython-input-12-6e5eab987839>\u001b[0m in \u001b[0;36m<module>\u001b[1;34m\u001b[0m\n\u001b[0;32m     11\u001b[0m     \u001b[1;32mreturn\u001b[0m \u001b[0mscale\u001b[0m \u001b[1;33m*\u001b[0m \u001b[0melu\u001b[0m\u001b[1;33m(\u001b[0m\u001b[0mz\u001b[0m\u001b[1;33m,\u001b[0m \u001b[0malpha\u001b[0m\u001b[1;33m)\u001b[0m\u001b[1;33m\u001b[0m\u001b[1;33m\u001b[0m\u001b[0m\n\u001b[0;32m     12\u001b[0m \u001b[1;33m\u001b[0m\u001b[0m\n\u001b[1;32m---> 13\u001b[1;33m \u001b[0mplt\u001b[0m\u001b[1;33m.\u001b[0m\u001b[0mplot\u001b[0m\u001b[1;33m(\u001b[0m\u001b[0mz\u001b[0m\u001b[1;33m,\u001b[0m \u001b[0mselu\u001b[0m\u001b[1;33m(\u001b[0m\u001b[0mz\u001b[0m\u001b[1;33m)\u001b[0m\u001b[1;33m,\u001b[0m \u001b[1;34m\"b-\"\u001b[0m\u001b[1;33m,\u001b[0m \u001b[0mlinewidth\u001b[0m\u001b[1;33m=\u001b[0m\u001b[1;36m2\u001b[0m\u001b[1;33m)\u001b[0m\u001b[1;33m\u001b[0m\u001b[1;33m\u001b[0m\u001b[0m\n\u001b[0m\u001b[0;32m     14\u001b[0m \u001b[0mplt\u001b[0m\u001b[1;33m.\u001b[0m\u001b[0mplot\u001b[0m\u001b[1;33m(\u001b[0m\u001b[1;33m[\u001b[0m\u001b[1;33m-\u001b[0m\u001b[1;36m5\u001b[0m\u001b[1;33m,\u001b[0m \u001b[1;36m5\u001b[0m\u001b[1;33m]\u001b[0m\u001b[1;33m,\u001b[0m \u001b[1;33m[\u001b[0m\u001b[1;36m0\u001b[0m\u001b[1;33m,\u001b[0m \u001b[1;36m0\u001b[0m\u001b[1;33m]\u001b[0m\u001b[1;33m,\u001b[0m \u001b[1;34m'k-'\u001b[0m\u001b[1;33m)\u001b[0m\u001b[1;33m\u001b[0m\u001b[1;33m\u001b[0m\u001b[0m\n\u001b[0;32m     15\u001b[0m \u001b[0mplt\u001b[0m\u001b[1;33m.\u001b[0m\u001b[0mplot\u001b[0m\u001b[1;33m(\u001b[0m\u001b[1;33m[\u001b[0m\u001b[1;33m-\u001b[0m\u001b[1;36m5\u001b[0m\u001b[1;33m,\u001b[0m \u001b[1;36m5\u001b[0m\u001b[1;33m]\u001b[0m\u001b[1;33m,\u001b[0m \u001b[1;33m[\u001b[0m\u001b[1;33m-\u001b[0m\u001b[1;36m1.758\u001b[0m\u001b[1;33m,\u001b[0m \u001b[1;33m-\u001b[0m\u001b[1;36m1.758\u001b[0m\u001b[1;33m]\u001b[0m\u001b[1;33m,\u001b[0m \u001b[1;34m'k--'\u001b[0m\u001b[1;33m)\u001b[0m\u001b[1;33m\u001b[0m\u001b[1;33m\u001b[0m\u001b[0m\n",
      "\u001b[1;31mNameError\u001b[0m: name 'z' is not defined"
     ]
    }
   ],
   "source": [
    "# plot the SELU activation function\n",
    "\n",
    "from scipy.special import erfc\n",
    "\n",
    "# alpha and scale to self normalize with mean 0 and standard deviation 1\n",
    "# (see equation 14 in the paper):\n",
    "alpha_0_1 = -np.sqrt(2 / np.pi) / (erfc(1/np.sqrt(2)) * np.exp(1/2) - 1)\n",
    "scale_0_1 = (1 - erfc(1 / np.sqrt(2)) * np.sqrt(np.e)) * np.sqrt(2 * np.pi) * (2 * erfc(np.sqrt(2))*np.e**2 + np.pi*erfc(1/np.sqrt(2))**2*np.e - 2*(2+np.pi)*erfc(1/np.sqrt(2))*np.sqrt(np.e)+np.pi+2)**(-1/2)\n",
    "\n",
    "def selu(z, scale=scale_0_1, alpha=alpha_0_1):\n",
    "    return scale * elu(z, alpha)\n",
    "\n",
    "plt.plot(z, selu(z), \"b-\", linewidth=2)\n",
    "plt.plot([-5, 5], [0, 0], 'k-')\n",
    "plt.plot([-5, 5], [-1.758, -1.758], 'k--')\n",
    "plt.plot([0, 0], [-2.2, 3.2], 'k-')\n",
    "plt.grid(True)\n",
    "plt.title(\"SELU activation function\", fontsize=14)\n",
    "plt.axis([-5, 5, -2.2, 3.2])\n",
    "\n",
    "save_fig(\"selu_plot\")\n",
    "plt.show()\n"
   ]
  },
  {
   "cell_type": "code",
   "execution_count": 14,
   "metadata": {},
   "outputs": [],
   "source": [
    "pixel_means = X_train.mean(axis=0, keepdims=True)\n",
    "pixel_stds = X_train.std(axis=0, keepdims=True)\n",
    "X_train_scaled = (X_train - pixel_means) / pixel_stds\n",
    "X_valid_scaled = (X_valid - pixel_means) / pixel_stds\n",
    "X_test_scaled = (X_test - pixel_means) / pixel_stds"
   ]
  },
  {
   "cell_type": "markdown",
   "metadata": {},
   "source": [
    "## Batch Normalization\n",
    "\n",
    "\n",
    "- for or after activation - if before, no bias neuron needed\n",
    "- in diagramms often omitted since considered standard\n",
    "- fixup initialization maybe makes BN obsolete ?\n",
    "- no standardScaler needed since scales and shifts mini_batch input\n",
    "- gamma, beta and mu (mean) and sigma (standard deviation)m\n"
   ]
  },
  {
   "cell_type": "code",
   "execution_count": 22,
   "metadata": {},
   "outputs": [
    {
     "name": "stdout",
     "output_type": "stream",
     "text": [
      "Model: \"sequential_1\"\n",
      "_________________________________________________________________\n",
      "Layer (type)                 Output Shape              Param #   \n",
      "=================================================================\n",
      "flatten_2 (Flatten)          (None, 784)               0         \n",
      "_________________________________________________________________\n",
      "batch_normalization (BatchNo (None, 784)               3136      \n",
      "_________________________________________________________________\n",
      "dense_8 (Dense)              (None, 300)               235500    \n",
      "_________________________________________________________________\n",
      "batch_normalization_1 (Batch (None, 300)               1200      \n",
      "_________________________________________________________________\n",
      "dense_9 (Dense)              (None, 100)               30100     \n",
      "_________________________________________________________________\n",
      "batch_normalization_2 (Batch (None, 100)               400       \n",
      "_________________________________________________________________\n",
      "dense_10 (Dense)             (None, 10)                1010      \n",
      "=================================================================\n",
      "Total params: 271,346\n",
      "Trainable params: 268,978\n",
      "Non-trainable params: 2,368\n",
      "_________________________________________________________________\n"
     ]
    }
   ],
   "source": [
    "model = keras.models.Sequential([\n",
    "    keras.layers.Flatten(input_shape=[28, 28]),\n",
    "    keras.layers.BatchNormalization(),\n",
    "    keras.layers.Dense(300, activation=\"relu\"),\n",
    "    keras.layers.BatchNormalization(),\n",
    "    keras.layers.Dense(100, activation=\"relu\"),\n",
    "    keras.layers.BatchNormalization(),\n",
    "    keras.layers.Dense(10, activation=\"softmax\")\n",
    "])\n",
    "\n",
    "model.summary()\n",
    "\n",
    "# 4 variables per BN layer (gamma, beta, mu, and sigma)\n"
   ]
  },
  {
   "cell_type": "code",
   "execution_count": 25,
   "metadata": {},
   "outputs": [
    {
     "data": {
      "text/plain": [
       "[('batch_normalization/gamma:0', True),\n",
       " ('batch_normalization/beta:0', True),\n",
       " ('batch_normalization/moving_mean:0', False),\n",
       " ('batch_normalization/moving_variance:0', False)]"
      ]
     },
     "execution_count": 25,
     "metadata": {},
     "output_type": "execute_result"
    }
   ],
   "source": [
    "# cheack which parameters of BN are trainable by the Gradient Descent\n",
    "\n",
    "bn1 = model.layers[1]\n",
    "[(var.name, var.trainable) for var in bn1.variables]"
   ]
  },
  {
   "cell_type": "code",
   "execution_count": 26,
   "metadata": {},
   "outputs": [
    {
     "name": "stdout",
     "output_type": "stream",
     "text": [
      "Train on 55000 samples, validate on 5000 samples\n",
      "Epoch 1/10\n",
      "55000/55000 [==============================] - 9s 170us/sample - loss: 1.0468 - accuracy: 0.6830 - val_loss: 0.6881 - val_accuracy: 0.7962\n",
      "Epoch 2/10\n",
      "55000/55000 [==============================] - 8s 146us/sample - loss: 0.6847 - accuracy: 0.7853 - val_loss: 0.5656 - val_accuracy: 0.8200\n",
      "Epoch 3/10\n",
      "55000/55000 [==============================] - 8s 142us/sample - loss: 0.5971 - accuracy: 0.8057 - val_loss: 0.5065 - val_accuracy: 0.8388\n",
      "Epoch 4/10\n",
      "55000/55000 [==============================] - 8s 142us/sample - loss: 0.5491 - accuracy: 0.8177 - val_loss: 0.4716 - val_accuracy: 0.8462\n",
      "Epoch 5/10\n",
      "55000/55000 [==============================] - 8s 141us/sample - loss: 0.5123 - accuracy: 0.8270 - val_loss: 0.4482 - val_accuracy: 0.8554\n",
      "Epoch 6/10\n",
      "55000/55000 [==============================] - 9s 156us/sample - loss: 0.4940 - accuracy: 0.8311 - val_loss: 0.4302 - val_accuracy: 0.8580\n",
      "Epoch 7/10\n",
      "55000/55000 [==============================] - 8s 140us/sample - loss: 0.4733 - accuracy: 0.8381 - val_loss: 0.4170 - val_accuracy: 0.8624\n",
      "Epoch 8/10\n",
      "55000/55000 [==============================] - 8s 146us/sample - loss: 0.4599 - accuracy: 0.8415 - val_loss: 0.4060 - val_accuracy: 0.8650\n",
      "Epoch 9/10\n",
      "55000/55000 [==============================] - 8s 143us/sample - loss: 0.4483 - accuracy: 0.8449 - val_loss: 0.3972 - val_accuracy: 0.8676\n",
      "Epoch 10/10\n",
      "55000/55000 [==============================] - 8s 137us/sample - loss: 0.4378 - accuracy: 0.8476 - val_loss: 0.3902 - val_accuracy: 0.8686\n"
     ]
    }
   ],
   "source": [
    "# applying BN before activation (use_bias = False)\n",
    "\n",
    "model = keras.models.Sequential([\n",
    "    keras.layers.Flatten(input_shape = [28, 28]),\n",
    "    keras.layers.BatchNormalization(),\n",
    "    keras.layers.Dense(300, use_bias=False),\n",
    "    keras.layers.BatchNormalization(),\n",
    "    keras.layers.Activation('relu'),\n",
    "    keras.layers.Dense(100, use_bias=False),\n",
    "    keras.layers.BatchNormalization(),\n",
    "    keras.layers.Activation(\"relu\"),\n",
    "    keras.layers.Dense(10, activation=\"softmax\")\n",
    "])\n",
    "\n",
    "model.compile(loss=\"sparse_categorical_crossentropy\",\n",
    "              optimizer=keras.optimizers.SGD(lr=1e-3),\n",
    "              metrics=[\"accuracy\"])\n",
    "\n",
    "history = model.fit(X_train, y_train, epochs=10,\n",
    "                    validation_data=(X_valid, y_valid))"
   ]
  },
  {
   "cell_type": "markdown",
   "metadata": {},
   "source": [
    "## 10. 3. Gradient Clipping\n",
    "    \n",
    "    - all optimizer accept clipnorm/ -value\n",
    "    - input vector [0.002, 1000] becomes [0.002, 1] w clipvalue=1\n",
    "    - direction of input vector might change with clipvalue\n",
    "    \n",
    "\n",
    "    "
   ]
  },
  {
   "cell_type": "code",
   "execution_count": null,
   "metadata": {},
   "outputs": [],
   "source": [
    "optimizer = keras.optimizers.SGD(lr = 1e-3, clipnorm = 1)\n",
    "\n"
   ]
  },
  {
   "cell_type": "code",
   "execution_count": null,
   "metadata": {},
   "outputs": [],
   "source": [
    "Ch. 10.1 Vanishing / Exploding Gradients \n",
    "    - Xavier Glorot, He, LeChun Initialization\n",
    "    - Non-Saturating Activation (Selu, leaky, etc)\n",
    "    - BN (fixup initialization 2019)\n",
    "    "
   ]
  },
  {
   "cell_type": "markdown",
   "metadata": {},
   "source": [
    "## 11. 2. Reusing Pretrained Models\n",
    "\n",
    "Let's split the fashion MNIST training set in two:\n",
    "* `X_train_A`: all images of all items except for sandals and shirts (classes 5 and 6).\n",
    "* `X_train_B`: a much smaller training set of just the first 200 images of sandals or shirts.\n",
    "\n",
    "The validation set and the test set are also split this way, but without restricting the number of images.\n",
    "\n",
    "We will train a model on set A (classification task with 8 classes), and try to reuse it to tackle set B (binary classification). We hope to transfer a little bit of knowledge from task A to task B, since classes in set A (sneakers, ankle boots, coats, t-shirts, etc.) are somewhat similar to classes in set B (sandals and shirts). However, since we are using `Dense` layers, only patterns that occur at the same location can be reused (in contrast, convolutional layers will transfer much better, since learned patterns can be detected anywhere on the image, as we will see in the CNN chapter)."
   ]
  },
  {
   "cell_type": "code",
   "execution_count": 3,
   "metadata": {},
   "outputs": [],
   "source": [
    "def split_dataset(X, y):\n",
    "    y_5_or_6 = (y == 5) | (y == 6) # sandals or shirts\n",
    "    y_A = y[~y_5_or_6]\n",
    "    y_A[y_A > 6] -= 2 # class indices 7, 8, 9 should be moved to 5, 6, 7\n",
    "    y_B = (y[y_5_or_6] == 6).astype(np.float32) # binary classification task: is it a shirt (class 6)?\n",
    "    return ((X[~y_5_or_6], y_A),\n",
    "            (X[y_5_or_6], y_B))\n",
    "\n",
    "(X_train_A, y_train_A), (X_train_B, y_train_B) = split_dataset(X_train, y_train)\n",
    "(X_valid_A, y_valid_A), (X_valid_B, y_valid_B) = split_dataset(X_valid, y_valid)\n",
    "(X_test_A, y_test_A), (X_test_B, y_test_B) = split_dataset(X_test, y_test)\n",
    "X_train_B = X_train_B[:200]\n",
    "y_train_B = y_train_B[:200]"
   ]
  },
  {
   "cell_type": "code",
   "execution_count": 4,
   "metadata": {},
   "outputs": [],
   "source": [
    "tf.random.set_seed(42)\n",
    "np.random.seed(42)"
   ]
  },
  {
   "cell_type": "code",
   "execution_count": 5,
   "metadata": {},
   "outputs": [
    {
     "name": "stdout",
     "output_type": "stream",
     "text": [
      "Train on 43986 samples, validate on 4014 samples\n",
      "Epoch 1/20\n",
      "43986/43986 [==============================] - 8s 174us/sample - loss: 0.5902 - accuracy: 0.8133 - val_loss: 0.3782 - val_accuracy: 0.8692\n",
      "Epoch 2/20\n",
      "43986/43986 [==============================] - 7s 154us/sample - loss: 0.3518 - accuracy: 0.8783 - val_loss: 0.3370 - val_accuracy: 0.8839\n",
      "Epoch 3/20\n",
      "43986/43986 [==============================] - 8s 174us/sample - loss: 0.3163 - accuracy: 0.8896 - val_loss: 0.3019 - val_accuracy: 0.8956\n",
      "Epoch 4/20\n",
      "43986/43986 [==============================] - 7s 162us/sample - loss: 0.2969 - accuracy: 0.8973 - val_loss: 0.2912 - val_accuracy: 0.9013\n",
      "Epoch 5/20\n",
      "43986/43986 [==============================] - 7s 157us/sample - loss: 0.2831 - accuracy: 0.9027 - val_loss: 0.2816 - val_accuracy: 0.9016\n",
      "Epoch 6/20\n",
      "43986/43986 [==============================] - 7s 168us/sample - loss: 0.2725 - accuracy: 0.9065 - val_loss: 0.2736 - val_accuracy: 0.9073\n",
      "Epoch 7/20\n",
      "43986/43986 [==============================] - 7s 154us/sample - loss: 0.2644 - accuracy: 0.9094 - val_loss: 0.2649 - val_accuracy: 0.9093\n",
      "Epoch 8/20\n",
      "43986/43986 [==============================] - 7s 161us/sample - loss: 0.2577 - accuracy: 0.9117 - val_loss: 0.2579 - val_accuracy: 0.9131\n",
      "Epoch 9/20\n",
      "43986/43986 [==============================] - 7s 151us/sample - loss: 0.2517 - accuracy: 0.9137 - val_loss: 0.2581 - val_accuracy: 0.9133\n",
      "Epoch 10/20\n",
      "43986/43986 [==============================] - 7s 149us/sample - loss: 0.2466 - accuracy: 0.9152 - val_loss: 0.2521 - val_accuracy: 0.9150\n",
      "Epoch 11/20\n",
      "43986/43986 [==============================] - 7s 170us/sample - loss: 0.2420 - accuracy: 0.9178 - val_loss: 0.2489 - val_accuracy: 0.9160\n",
      "Epoch 12/20\n",
      "43986/43986 [==============================] - 7s 159us/sample - loss: 0.2381 - accuracy: 0.9191 - val_loss: 0.2454 - val_accuracy: 0.9173\n",
      "Epoch 13/20\n",
      "43986/43986 [==============================] - 7s 164us/sample - loss: 0.2348 - accuracy: 0.9197 - val_loss: 0.2448 - val_accuracy: 0.9193\n",
      "Epoch 14/20\n",
      "43986/43986 [==============================] - 7s 152us/sample - loss: 0.2312 - accuracy: 0.9202 - val_loss: 0.2431 - val_accuracy: 0.9175\n",
      "Epoch 15/20\n",
      "43986/43986 [==============================] - 7s 153us/sample - loss: 0.2282 - accuracy: 0.9220 - val_loss: 0.2430 - val_accuracy: 0.9178\n",
      "Epoch 16/20\n",
      "43986/43986 [==============================] - 7s 150us/sample - loss: 0.2256 - accuracy: 0.9228 - val_loss: 0.2413 - val_accuracy: 0.9155\n",
      "Epoch 17/20\n",
      "43986/43986 [==============================] - 7s 160us/sample - loss: 0.2229 - accuracy: 0.9229 - val_loss: 0.2368 - val_accuracy: 0.9180\n",
      "Epoch 18/20\n",
      "43986/43986 [==============================] - 7s 159us/sample - loss: 0.2202 - accuracy: 0.9243 - val_loss: 0.2433 - val_accuracy: 0.9175\n",
      "Epoch 19/20\n",
      "43986/43986 [==============================] - 6s 147us/sample - loss: 0.2177 - accuracy: 0.9250 - val_loss: 0.2609 - val_accuracy: 0.9053\n",
      "Epoch 20/20\n",
      "43986/43986 [==============================] - 7s 168us/sample - loss: 0.2159 - accuracy: 0.9265 - val_loss: 0.2328 - val_accuracy: 0.9205\n"
     ]
    }
   ],
   "source": [
    "## set up both models A and B (so we have reference values ) afterwards transfer Model A to B\n",
    "\n",
    "# Model A\n",
    "model_A = keras.models.Sequential()\n",
    "model_A.add(keras.layers.Flatten(input_shape=[28, 28]))\n",
    "for n_hidden in (300, 100, 50, 50, 50):\n",
    "    model_A.add(keras.layers.Dense(n_hidden, activation=\"selu\"))\n",
    "model_A.add(keras.layers.Dense(8, activation=\"softmax\"))\n",
    "\n",
    "model_A.compile(loss=\"sparse_categorical_crossentropy\",\n",
    "                optimizer=keras.optimizers.SGD(lr=1e-3),\n",
    "                metrics=[\"accuracy\"])\n",
    "\n",
    "history = model_A.fit(X_train_A, y_train_A, epochs=20,\n",
    "                    validation_data=(X_valid_A, y_valid_A))"
   ]
  },
  {
   "cell_type": "code",
   "execution_count": 6,
   "metadata": {},
   "outputs": [],
   "source": [
    "model_A.save(\"my_model_A.h5\")"
   ]
  },
  {
   "cell_type": "code",
   "execution_count": 30,
   "metadata": {},
   "outputs": [
    {
     "name": "stdout",
     "output_type": "stream",
     "text": [
      "Train on 200 samples, validate on 986 samples\n",
      "Epoch 1/20\n",
      "200/200 [==============================] - 1s 4ms/sample - loss: 0.5480 - accuracy: 0.7400 - val_loss: 0.4336 - val_accuracy: 0.8398\n",
      "Epoch 2/20\n",
      "200/200 [==============================] - 0s 527us/sample - loss: 0.3962 - accuracy: 0.8550 - val_loss: 0.3488 - val_accuracy: 0.8905\n",
      "Epoch 3/20\n",
      "200/200 [==============================] - 0s 500us/sample - loss: 0.3174 - accuracy: 0.8800 - val_loss: 0.2926 - val_accuracy: 0.9158\n",
      "Epoch 4/20\n",
      "200/200 [==============================] - 0s 465us/sample - loss: 0.2610 - accuracy: 0.9250 - val_loss: 0.2527 - val_accuracy: 0.9361\n",
      "Epoch 5/20\n",
      "200/200 [==============================] - 0s 466us/sample - loss: 0.2224 - accuracy: 0.9600 - val_loss: 0.2218 - val_accuracy: 0.9544\n",
      "Epoch 6/20\n",
      "200/200 [==============================] - ETA: 0s - loss: 0.2018 - accuracy: 0.96 - 0s 472us/sample - loss: 0.1909 - accuracy: 0.9700 - val_loss: 0.1973 - val_accuracy: 0.9635\n",
      "Epoch 7/20\n",
      "200/200 [==============================] - 0s 491us/sample - loss: 0.1668 - accuracy: 0.9850 - val_loss: 0.1787 - val_accuracy: 0.9696\n",
      "Epoch 8/20\n",
      "200/200 [==============================] - 0s 475us/sample - loss: 0.1488 - accuracy: 0.9800 - val_loss: 0.1651 - val_accuracy: 0.9706\n",
      "Epoch 9/20\n",
      "200/200 [==============================] - 0s 467us/sample - loss: 0.1338 - accuracy: 0.9850 - val_loss: 0.1528 - val_accuracy: 0.9746\n",
      "Epoch 10/20\n",
      "200/200 [==============================] - 0s 454us/sample - loss: 0.1217 - accuracy: 0.9950 - val_loss: 0.1429 - val_accuracy: 0.9767\n",
      "Epoch 11/20\n",
      "200/200 [==============================] - 0s 453us/sample - loss: 0.1115 - accuracy: 0.9950 - val_loss: 0.1346 - val_accuracy: 0.9777\n",
      "Epoch 12/20\n",
      "200/200 [==============================] - 0s 488us/sample - loss: 0.1028 - accuracy: 0.9950 - val_loss: 0.1273 - val_accuracy: 0.9777\n",
      "Epoch 13/20\n",
      "200/200 [==============================] - 0s 480us/sample - loss: 0.0949 - accuracy: 0.9950 - val_loss: 0.1200 - val_accuracy: 0.9797\n",
      "Epoch 14/20\n",
      "200/200 [==============================] - 0s 484us/sample - loss: 0.0882 - accuracy: 0.9950 - val_loss: 0.1150 - val_accuracy: 0.9797\n",
      "Epoch 15/20\n",
      "200/200 [==============================] - 0s 441us/sample - loss: 0.0823 - accuracy: 0.9950 - val_loss: 0.1100 - val_accuracy: 0.9787\n",
      "Epoch 16/20\n",
      "200/200 [==============================] - 0s 486us/sample - loss: 0.0773 - accuracy: 0.9950 - val_loss: 0.1058 - val_accuracy: 0.9787\n",
      "Epoch 17/20\n",
      "200/200 [==============================] - 0s 493us/sample - loss: 0.0729 - accuracy: 0.9950 - val_loss: 0.1013 - val_accuracy: 0.9797\n",
      "Epoch 18/20\n",
      "200/200 [==============================] - 0s 470us/sample - loss: 0.0688 - accuracy: 0.9950 - val_loss: 0.0981 - val_accuracy: 0.9797\n",
      "Epoch 19/20\n",
      "200/200 [==============================] - 0s 467us/sample - loss: 0.0654 - accuracy: 0.9950 - val_loss: 0.0957 - val_accuracy: 0.9787\n",
      "Epoch 20/20\n",
      "200/200 [==============================] - 0s 489us/sample - loss: 0.0622 - accuracy: 0.9950 - val_loss: 0.0927 - val_accuracy: 0.9787\n"
     ]
    }
   ],
   "source": [
    "# set up Model B (same parameters as Model A except loss= binary_crossentrophy)\n",
    "\n",
    "model_B = keras.models.Sequential()\n",
    "model_B.add(keras.layers.Flatten(input_shape=[28, 28]))\n",
    "for n_hidden in (300, 100, 50, 50, 50):\n",
    "    model_B.add(keras.layers.Dense(n_hidden, activation=\"selu\"))\n",
    "model_B.add(keras.layers.Dense(1, activation=\"sigmoid\"))\n",
    "\n",
    "model_B.compile(loss=\"binary_crossentropy\",\n",
    "                optimizer=keras.optimizers.SGD(lr=1e-3),\n",
    "                metrics=[\"accuracy\"])\n",
    "\n",
    "history = model_B.fit(X_train_B, y_train_B, epochs=20,\n",
    "                      validation_data=(X_valid_B, y_valid_B))"
   ]
  },
  {
   "cell_type": "code",
   "execution_count": 7,
   "metadata": {},
   "outputs": [],
   "source": [
    "# transfer model A to B \n",
    "\n",
    "model_A = keras.models.load_model('my_model_A.h5')\n",
    "\n",
    "# all layers except output layer\n",
    "model_B_on_A = keras.models.Sequential(model_A.layers[:-1])\n",
    "\n",
    "# add output layer for binary classification on model B\n",
    "model_B_on_A.add(keras.layers.Dense(1, activation='sigmoid'))\n",
    "\n",
    "\n",
    "# WATCH OUT ! any time you train Model B_on_A model A will be changed too!\n",
    "\n",
    "# Better clone (but don't forget the set_weights since those not included with clone_model())\n",
    "\n",
    "model_A_clone = keras.models.clone_model(model_A)\n",
    "\n",
    "model_A_clone.set_weights(model_A.get_weights())\n"
   ]
  },
  {
   "cell_type": "code",
   "execution_count": 8,
   "metadata": {},
   "outputs": [
    {
     "name": "stdout",
     "output_type": "stream",
     "text": [
      "Train on 200 samples, validate on 986 samples\n",
      "Epoch 1/4\n",
      "200/200 [==============================] - 1s 5ms/sample - loss: 0.1942 - accuracy: 0.9600 - val_loss: 0.2095 - val_accuracy: 0.9726\n",
      "Epoch 2/4\n",
      "200/200 [==============================] - 0s 657us/sample - loss: 0.1885 - accuracy: 0.9600 - val_loss: 0.2044 - val_accuracy: 0.9726\n",
      "Epoch 3/4\n",
      "200/200 [==============================] - 0s 744us/sample - loss: 0.1834 - accuracy: 0.9600 - val_loss: 0.1995 - val_accuracy: 0.9746\n",
      "Epoch 4/4\n",
      "200/200 [==============================] - 0s 673us/sample - loss: 0.1785 - accuracy: 0.9600 - val_loss: 0.1947 - val_accuracy: 0.9767\n",
      "Train on 200 samples, validate on 986 samples\n",
      "Epoch 1/16\n",
      "200/200 [==============================] - 1s 6ms/sample - loss: 0.1655 - accuracy: 0.9650 - val_loss: 0.1695 - val_accuracy: 0.9817\n",
      "Epoch 2/16\n",
      "200/200 [==============================] - 0s 843us/sample - loss: 0.1418 - accuracy: 0.9750 - val_loss: 0.1517 - val_accuracy: 0.9828\n",
      "Epoch 3/16\n",
      "200/200 [==============================] - 0s 787us/sample - loss: 0.1250 - accuracy: 0.9850 - val_loss: 0.1378 - val_accuracy: 0.9838\n",
      "Epoch 4/16\n",
      "200/200 [==============================] - 0s 828us/sample - loss: 0.1119 - accuracy: 0.9850 - val_loss: 0.1264 - val_accuracy: 0.9838\n",
      "Epoch 5/16\n",
      "200/200 [==============================] - 0s 772us/sample - loss: 0.1012 - accuracy: 0.9850 - val_loss: 0.1174 - val_accuracy: 0.9848\n",
      "Epoch 6/16\n",
      "200/200 [==============================] - 0s 776us/sample - loss: 0.0924 - accuracy: 0.9900 - val_loss: 0.1100 - val_accuracy: 0.9878\n",
      "Epoch 7/16\n",
      "200/200 [==============================] - 0s 767us/sample - loss: 0.0854 - accuracy: 0.9950 - val_loss: 0.1034 - val_accuracy: 0.9888\n",
      "Epoch 8/16\n",
      "200/200 [==============================] - 0s 858us/sample - loss: 0.0790 - accuracy: 0.9950 - val_loss: 0.0977 - val_accuracy: 0.9899\n",
      "Epoch 9/16\n",
      "200/200 [==============================] - 0s 794us/sample - loss: 0.0736 - accuracy: 0.9950 - val_loss: 0.0931 - val_accuracy: 0.9899\n",
      "Epoch 10/16\n",
      "200/200 [==============================] - 0s 905us/sample - loss: 0.0692 - accuracy: 0.9950 - val_loss: 0.0885 - val_accuracy: 0.9899\n",
      "Epoch 11/16\n",
      "200/200 [==============================] - 0s 820us/sample - loss: 0.0648 - accuracy: 0.9950 - val_loss: 0.0848 - val_accuracy: 0.9888\n",
      "Epoch 12/16\n",
      "200/200 [==============================] - 0s 832us/sample - loss: 0.0612 - accuracy: 0.9950 - val_loss: 0.0814 - val_accuracy: 0.9888\n",
      "Epoch 13/16\n",
      "200/200 [==============================] - 0s 786us/sample - loss: 0.0580 - accuracy: 0.9950 - val_loss: 0.0784 - val_accuracy: 0.9888\n",
      "Epoch 14/16\n",
      "200/200 [==============================] - 0s 728us/sample - loss: 0.0551 - accuracy: 0.9950 - val_loss: 0.0755 - val_accuracy: 0.9888\n",
      "Epoch 15/16\n",
      "200/200 [==============================] - 0s 884us/sample - loss: 0.0524 - accuracy: 0.9950 - val_loss: 0.0729 - val_accuracy: 0.9888\n",
      "Epoch 16/16\n",
      "200/200 [==============================] - 0s 840us/sample - loss: 0.0498 - accuracy: 0.9950 - val_loss: 0.0707 - val_accuracy: 0.9888\n"
     ]
    }
   ],
   "source": [
    "# freeze layers \n",
    "\n",
    "for layer in model_B_on_A.layers[:-1]:\n",
    "    layer.trainable = False\n",
    "    \n",
    "# after change always need to COMPILE AGAIN \n",
    "\n",
    "model_B_on_A.compile(loss=\"binary_crossentropy\",\n",
    "                     optimizer=keras.optimizers.SGD(lr=1e-3),\n",
    "                     metrics=[\"accuracy\"])\n",
    "\n",
    "history = model_B_on_A.fit(X_train_B, y_train_B, epochs=4,\n",
    "                           validation_data=(X_valid_B, y_valid_B))\n",
    "\n",
    "for layer in model_B_on_A.layers[:-1]:\n",
    "    layer.trainable = True\n",
    "\n",
    "model_B_on_A.compile(loss=\"binary_crossentropy\",\n",
    "                     optimizer=keras.optimizers.SGD(lr=1e-3),\n",
    "                     metrics=[\"accuracy\"])\n",
    "history = model_B_on_A.fit(X_train_B, y_train_B, epochs=16,\n",
    "                           validation_data=(X_valid_B, y_valid_B))"
   ]
  },
  {
   "cell_type": "code",
   "execution_count": 9,
   "metadata": {},
   "outputs": [
    {
     "ename": "NameError",
     "evalue": "name 'model_B' is not defined",
     "output_type": "error",
     "traceback": [
      "\u001b[1;31m---------------------------------------------------------------------------\u001b[0m",
      "\u001b[1;31mNameError\u001b[0m                                 Traceback (most recent call last)",
      "\u001b[1;32m<ipython-input-9-4dcc28b2bafc>\u001b[0m in \u001b[0;36m<module>\u001b[1;34m\u001b[0m\n\u001b[1;32m----> 1\u001b[1;33m \u001b[0mmodel_B\u001b[0m\u001b[1;33m.\u001b[0m\u001b[0mevaluate\u001b[0m\u001b[1;33m(\u001b[0m\u001b[0mX_test\u001b[0m\u001b[1;33m,\u001b[0m \u001b[0my_test\u001b[0m\u001b[1;33m)\u001b[0m\u001b[1;33m\u001b[0m\u001b[1;33m\u001b[0m\u001b[0m\n\u001b[0m",
      "\u001b[1;31mNameError\u001b[0m: name 'model_B' is not defined"
     ]
    }
   ],
   "source": [
    "model_B.evaluate(X_test, y_test)"
   ]
  },
  {
   "cell_type": "code",
   "execution_count": null,
   "metadata": {},
   "outputs": [],
   "source": [
    "model_B_on_A.evaluate(X_test, y_test)"
   ]
  },
  {
   "cell_type": "markdown",
   "metadata": {},
   "source": [
    "\n",
    "## Faster Optimizers\n",
    "\n",
    "- Momentum Optimizer (nesterov)\n",
    "\n",
    "optimizer = keras.optimizers.SGD(lr=0.001, momentum = 0.9, nesterov=]True)\n",
    "\n",
    "- AdaGrad\n",
    "\n",
    "keras.optimizers.Adagrad(lr=0.001)\n",
    "\n",
    "- RMSProp\n",
    "\n",
    "- Adam and Nadam\n",
    "\n",
    "keras.optimizers.Adam(lr= 0.001, beta_1= 0.9, beta_2 = 0.999)\n",
    "\n",
    ".Nadam(lr = 0.001, beta_1 = 0.9, beta_2 = 0.999)"
   ]
  },
  {
   "cell_type": "code",
   "execution_count": null,
   "metadata": {},
   "outputs": [],
   "source": [
    "## Learning Rate Scheduling\n",
    "\n",
    "- Power Scheduling\n",
    "\n",
    "- Exponential Scheduling"
   ]
  },
  {
   "cell_type": "code",
   "execution_count": 15,
   "metadata": {},
   "outputs": [
    {
     "name": "stdout",
     "output_type": "stream",
     "text": [
      "Train on 55000 samples, validate on 5000 samples\n",
      "Epoch 1/25\n",
      "55000/55000 [==============================] - 15s 276us/sample - loss: 0.8450 - accuracy: 0.7559 - val_loss: 1.0001 - val_accuracy: 0.6830\n",
      "Epoch 2/25\n",
      "55000/55000 [==============================] - 14s 252us/sample - loss: 0.7001 - accuracy: 0.7842 - val_loss: 0.6712 - val_accuracy: 0.8162\n",
      "Epoch 3/25\n",
      "55000/55000 [==============================] - 13s 230us/sample - loss: 0.6237 - accuracy: 0.8139 - val_loss: 0.7257 - val_accuracy: 0.7668\n",
      "Epoch 4/25\n",
      "55000/55000 [==============================] - 13s 233us/sample - loss: 0.5778 - accuracy: 0.8272 - val_loss: 0.6870 - val_accuracy: 0.7704\n",
      "Epoch 5/25\n",
      "55000/55000 [==============================] - 12s 221us/sample - loss: 0.5301 - accuracy: 0.8431 - val_loss: 0.5183 - val_accuracy: 0.8474\n",
      "Epoch 6/25\n",
      "55000/55000 [==============================] - 13s 238us/sample - loss: 0.4653 - accuracy: 0.8573 - val_loss: 0.5665 - val_accuracy: 0.8612\n",
      "Epoch 7/25\n",
      "55000/55000 [==============================] - 12s 220us/sample - loss: 0.4255 - accuracy: 0.8683 - val_loss: 0.5246 - val_accuracy: 0.8414\n",
      "Epoch 8/25\n",
      "55000/55000 [==============================] - 12s 219us/sample - loss: 0.3876 - accuracy: 0.8767 - val_loss: 0.5199 - val_accuracy: 0.8696\n",
      "Epoch 9/25\n",
      "55000/55000 [==============================] - 12s 216us/sample - loss: 0.3536 - accuracy: 0.8839 - val_loss: 0.4833 - val_accuracy: 0.8654\n",
      "Epoch 10/25\n",
      "55000/55000 [==============================] - 12s 221us/sample - loss: 0.3282 - accuracy: 0.8908 - val_loss: 0.4463 - val_accuracy: 0.8682\n",
      "Epoch 11/25\n",
      "55000/55000 [==============================] - 13s 240us/sample - loss: 0.3103 - accuracy: 0.8956 - val_loss: 0.4194 - val_accuracy: 0.8848\n",
      "Epoch 12/25\n",
      "55000/55000 [==============================] - 13s 237us/sample - loss: 0.2812 - accuracy: 0.9041 - val_loss: 0.4460 - val_accuracy: 0.8780\n",
      "Epoch 13/25\n",
      "55000/55000 [==============================] - 12s 227us/sample - loss: 0.2642 - accuracy: 0.9094 - val_loss: 0.4356 - val_accuracy: 0.8774\n",
      "Epoch 14/25\n",
      "55000/55000 [==============================] - 13s 233us/sample - loss: 0.2436 - accuracy: 0.9154 - val_loss: 0.4456 - val_accuracy: 0.8796\n",
      "Epoch 15/25\n",
      "55000/55000 [==============================] - 13s 235us/sample - loss: 0.2279 - accuracy: 0.9196 - val_loss: 0.4844 - val_accuracy: 0.8778\n",
      "Epoch 16/25\n",
      "55000/55000 [==============================] - 13s 235us/sample - loss: 0.2123 - accuracy: 0.9258 - val_loss: 0.4720 - val_accuracy: 0.8816\n",
      "Epoch 17/25\n",
      "55000/55000 [==============================] - 13s 243us/sample - loss: 0.1935 - accuracy: 0.9317 - val_loss: 0.4788 - val_accuracy: 0.8832\n",
      "Epoch 18/25\n",
      "55000/55000 [==============================] - 13s 238us/sample - loss: 0.1804 - accuracy: 0.9358 - val_loss: 0.4673 - val_accuracy: 0.8878\n",
      "Epoch 19/25\n",
      "55000/55000 [==============================] - 13s 244us/sample - loss: 0.1703 - accuracy: 0.9398 - val_loss: 0.4851 - val_accuracy: 0.8818\n",
      "Epoch 20/25\n",
      "55000/55000 [==============================] - 13s 243us/sample - loss: 0.1582 - accuracy: 0.9441 - val_loss: 0.4731 - val_accuracy: 0.8896\n",
      "Epoch 21/25\n",
      "55000/55000 [==============================] - 14s 251us/sample - loss: 0.1450 - accuracy: 0.9486 - val_loss: 0.4755 - val_accuracy: 0.8894\n",
      "Epoch 22/25\n",
      "55000/55000 [==============================] - 13s 232us/sample - loss: 0.1358 - accuracy: 0.9527 - val_loss: 0.5085 - val_accuracy: 0.8898\n",
      "Epoch 23/25\n",
      "55000/55000 [==============================] - 12s 223us/sample - loss: 0.1265 - accuracy: 0.9562 - val_loss: 0.5219 - val_accuracy: 0.8926\n",
      "Epoch 24/25\n",
      "55000/55000 [==============================] - 12s 225us/sample - loss: 0.1189 - accuracy: 0.9591 - val_loss: 0.5211 - val_accuracy: 0.8918\n",
      "Epoch 25/25\n",
      "55000/55000 [==============================] - 13s 230us/sample - loss: 0.1092 - accuracy: 0.9629 - val_loss: 0.5764 - val_accuracy: 0.8914\n"
     ]
    }
   ],
   "source": [
    "# Exponential\n",
    "\n",
    "#lr = lr0 * 0.1**(epoch / s)\n",
    "\n",
    "def exponential_decay(lr0, s):\n",
    "    def exponential_decay_fn(epoch):\n",
    "        return lr0 * 0.1**(epoch / s)\n",
    "    return exponential_decay_fn\n",
    "\n",
    "exponential_decay_fn = exponential_decay(lr0=0.01, s=20)\n",
    "\n",
    "model = keras.models.Sequential([\n",
    "    keras.layers.Flatten(input_shape=[28, 28]),\n",
    "    keras.layers.Dense(300, activation=\"selu\", kernel_initializer=\"lecun_normal\"),\n",
    "    keras.layers.Dense(100, activation=\"selu\", kernel_initializer=\"lecun_normal\"),\n",
    "    keras.layers.Dense(10, activation=\"softmax\")\n",
    "])\n",
    "\n",
    "model.compile(loss=\"sparse_categorical_crossentropy\", optimizer=\"nadam\", metrics=[\"accuracy\"])\n",
    "n_epochs = 25\n",
    "\n",
    "# get the exponential fuction into LearningRateScheduler() of keras.callbacks\n",
    "\n",
    "lr_scheduler = keras.callbacks.LearningRateScheduler(exponential_decay_fn)\n",
    "history = model.fit(X_train_scaled, y_train, epochs=n_epochs,\n",
    "                    validation_data=(X_valid_scaled, y_valid),\n",
    "                    callbacks=[lr_scheduler])\n",
    "\n"
   ]
  },
  {
   "cell_type": "code",
   "execution_count": 16,
   "metadata": {},
   "outputs": [
    {
     "data": {
      "image/png": "[encoded data removed]",
      "text/plain": [
       "<Figure size 432x288 with 1 Axes>"
      ]
     },
     "metadata": {
      "needs_background": "light"
     },
     "output_type": "display_data"
    }
   ],
   "source": [
    "plt.plot(history.epoch, history.history[\"lr\"], \"o-\")\n",
    "plt.axis([0, n_epochs - 1, 0, 0.011])\n",
    "plt.xlabel(\"Epoch\")\n",
    "plt.ylabel(\"Learning Rate\")\n",
    "plt.title(\"Exponential Scheduling\", fontsize=14)\n",
    "plt.grid(True)\n",
    "plt.show()"
   ]
  },
  {
   "cell_type": "markdown",
   "metadata": {},
   "source": [
    "### Exponential Learning Rate (per batch)\n",
    "\n",
    "### Pieacewise Constant Scheduling \n",
    "\n",
    "- lots of manual fiddling to get good values\n"
   ]
  },
  {
   "cell_type": "code",
   "execution_count": null,
   "metadata": {},
   "outputs": [],
   "source": [
    "\n",
    "def piecewise_constant_fn(epoch):\n",
    "    if epoch < 5:\n",
    "        return 0.01\n",
    "    elif epoch < 15:\n",
    "        return 0.005\n",
    "    else:\n",
    "        return 0.001\n",
    "    \n"
   ]
  },
  {
   "cell_type": "code",
   "execution_count": 17,
   "metadata": {},
   "outputs": [
    {
     "data": {
      "text/plain": [
       "<tensorflow.python.keras.callbacks.ReduceLROnPlateau at 0x17759c723c8>"
      ]
     },
     "execution_count": 17,
     "metadata": {},
     "output_type": "execute_result"
    }
   ],
   "source": [
    "## Performance Scheduling\n",
    "\n",
    "keras.callbacks.ReduceLROnPlateau(factor = 0.5, patience= 5)\n"
   ]
  },
  {
   "cell_type": "code",
   "execution_count": 18,
   "metadata": {},
   "outputs": [
    {
     "name": "stdout",
     "output_type": "stream",
     "text": [
      "Train on 55000 samples, validate on 5000 samples\n",
      "Epoch 1/25\n",
      "55000/55000 [==============================] - 9s 156us/sample - loss: 0.4842 - accuracy: 0.8318 - val_loss: 0.4174 - val_accuracy: 0.8556\n",
      "Epoch 2/25\n",
      "55000/55000 [==============================] - 8s 147us/sample - loss: 0.3787 - accuracy: 0.8648 - val_loss: 0.3772 - val_accuracy: 0.8688\n",
      "Epoch 3/25\n",
      "55000/55000 [==============================] - 8s 151us/sample - loss: 0.3451 - accuracy: 0.8768 - val_loss: 0.3684 - val_accuracy: 0.8700\n",
      "Epoch 4/25\n",
      "55000/55000 [==============================] - 8s 141us/sample - loss: 0.3235 - accuracy: 0.8842 - val_loss: 0.3519 - val_accuracy: 0.8776\n",
      "Epoch 5/25\n",
      "55000/55000 [==============================] - 8s 144us/sample - loss: 0.3067 - accuracy: 0.8910 - val_loss: 0.3438 - val_accuracy: 0.8818\n",
      "Epoch 6/25\n",
      "55000/55000 [==============================] - 8s 148us/sample - loss: 0.2942 - accuracy: 0.8945 - val_loss: 0.3414 - val_accuracy: 0.8814\n",
      "Epoch 7/25\n",
      "55000/55000 [==============================] - 8s 142us/sample - loss: 0.2832 - accuracy: 0.8990 - val_loss: 0.3360 - val_accuracy: 0.8848\n",
      "Epoch 8/25\n",
      "55000/55000 [==============================] - 8s 152us/sample - loss: 0.2742 - accuracy: 0.9022 - val_loss: 0.3309 - val_accuracy: 0.8848\n",
      "Epoch 9/25\n",
      "55000/55000 [==============================] - 7s 135us/sample - loss: 0.2664 - accuracy: 0.9041 - val_loss: 0.3279 - val_accuracy: 0.8898\n",
      "Epoch 10/25\n",
      "55000/55000 [==============================] - 8s 153us/sample - loss: 0.2595 - accuracy: 0.9071 - val_loss: 0.3295 - val_accuracy: 0.8866\n",
      "Epoch 11/25\n",
      "55000/55000 [==============================] - 8s 150us/sample - loss: 0.2537 - accuracy: 0.9094 - val_loss: 0.3244 - val_accuracy: 0.8888\n",
      "Epoch 12/25\n",
      "55000/55000 [==============================] - 8s 143us/sample - loss: 0.2486 - accuracy: 0.9109 - val_loss: 0.3234 - val_accuracy: 0.8910\n",
      "Epoch 13/25\n",
      "55000/55000 [==============================] - 8s 153us/sample - loss: 0.2442 - accuracy: 0.9124 - val_loss: 0.3230 - val_accuracy: 0.8896\n",
      "Epoch 14/25\n",
      "55000/55000 [==============================] - 8s 141us/sample - loss: 0.2404 - accuracy: 0.9148 - val_loss: 0.3235 - val_accuracy: 0.8914\n",
      "Epoch 15/25\n",
      "55000/55000 [==============================] - 8s 144us/sample - loss: 0.2370 - accuracy: 0.9164 - val_loss: 0.3201 - val_accuracy: 0.8904\n",
      "Epoch 16/25\n",
      "55000/55000 [==============================] - 8s 143us/sample - loss: 0.2337 - accuracy: 0.9167 - val_loss: 0.3209 - val_accuracy: 0.8910\n",
      "Epoch 17/25\n",
      "55000/55000 [==============================] - 8s 152us/sample - loss: 0.2313 - accuracy: 0.9185 - val_loss: 0.3189 - val_accuracy: 0.8914\n",
      "Epoch 18/25\n",
      "55000/55000 [==============================] - 8s 143us/sample - loss: 0.2284 - accuracy: 0.9187 - val_loss: 0.3212 - val_accuracy: 0.8898\n",
      "Epoch 19/25\n",
      "55000/55000 [==============================] - 8s 142us/sample - loss: 0.2265 - accuracy: 0.9199 - val_loss: 0.3198 - val_accuracy: 0.8912\n",
      "Epoch 20/25\n",
      "55000/55000 [==============================] - 8s 142us/sample - loss: 0.2246 - accuracy: 0.9213 - val_loss: 0.3183 - val_accuracy: 0.8930\n",
      "Epoch 21/25\n",
      "55000/55000 [==============================] - 9s 157us/sample - loss: 0.2229 - accuracy: 0.9218 - val_loss: 0.3180 - val_accuracy: 0.8906\n",
      "Epoch 22/25\n",
      "55000/55000 [==============================] - 8s 142us/sample - loss: 0.2213 - accuracy: 0.9228 - val_loss: 0.3176 - val_accuracy: 0.8904\n",
      "Epoch 23/25\n",
      "55000/55000 [==============================] - 9s 167us/sample - loss: 0.2200 - accuracy: 0.9226 - val_loss: 0.3177 - val_accuracy: 0.8922\n",
      "Epoch 24/25\n",
      "55000/55000 [==============================] - 8s 144us/sample - loss: 0.2187 - accuracy: 0.9235 - val_loss: 0.3184 - val_accuracy: 0.8908\n",
      "Epoch 25/25\n",
      "55000/55000 [==============================] - 9s 155us/sample - loss: 0.2178 - accuracy: 0.9237 - val_loss: 0.3175 - val_accuracy: 0.8908\n"
     ]
    }
   ],
   "source": [
    "### tf.keras schedulers\n",
    "\n",
    "# special schedulers in tf.keras only\n",
    "\n",
    "model = keras.models.Sequential([\n",
    "    keras.layers.Flatten(input_shape=[28, 28]),\n",
    "    keras.layers.Dense(300, activation=\"selu\", kernel_initializer=\"lecun_normal\"),\n",
    "    keras.layers.Dense(100, activation=\"selu\", kernel_initializer=\"lecun_normal\"),\n",
    "    keras.layers.Dense(10, activation=\"softmax\")\n",
    "])\n",
    "s = 20 * len(X_train) // 32 # number of steps in 20 epochs (batch size = 32)\n",
    "learning_rate = keras.optimizers.schedules.ExponentialDecay(0.01, s, 0.1)\n",
    "optimizer = keras.optimizers.SGD(learning_rate)\n",
    "model.compile(loss=\"sparse_categorical_crossentropy\", optimizer=optimizer, metrics=[\"accuracy\"])\n",
    "n_epochs = 25\n",
    "history = model.fit(X_train_scaled, y_train, epochs=n_epochs,\n",
    "                    validation_data=(X_valid_scaled, y_valid))"
   ]
  },
  {
   "cell_type": "code",
   "execution_count": 19,
   "metadata": {},
   "outputs": [
    {
     "ename": "NameError",
     "evalue": "name 'n_steps_per_epoch' is not defined",
     "output_type": "error",
     "traceback": [
      "\u001b[1;31m---------------------------------------------------------------------------\u001b[0m",
      "\u001b[1;31mNameError\u001b[0m                                 Traceback (most recent call last)",
      "\u001b[1;32m<ipython-input-19-0569d1560c59>\u001b[0m in \u001b[0;36m<module>\u001b[1;34m\u001b[0m\n\u001b[0;32m      2\u001b[0m \u001b[1;33m\u001b[0m\u001b[0m\n\u001b[0;32m      3\u001b[0m learning_rate = keras.optimizers.schedules.PiecewiseConstantDecay(\n\u001b[1;32m----> 4\u001b[1;33m     \u001b[0mboundaries\u001b[0m\u001b[1;33m=\u001b[0m\u001b[1;33m[\u001b[0m\u001b[1;36m5.\u001b[0m \u001b[1;33m*\u001b[0m \u001b[0mn_steps_per_epoch\u001b[0m\u001b[1;33m,\u001b[0m \u001b[1;36m15.\u001b[0m \u001b[1;33m*\u001b[0m \u001b[0mn_steps_per_epoch\u001b[0m\u001b[1;33m]\u001b[0m\u001b[1;33m,\u001b[0m\u001b[1;33m\u001b[0m\u001b[1;33m\u001b[0m\u001b[0m\n\u001b[0m\u001b[0;32m      5\u001b[0m     values=[0.01, 0.005, 0.001])\n\u001b[0;32m      6\u001b[0m \u001b[1;33m\u001b[0m\u001b[0m\n",
      "\u001b[1;31mNameError\u001b[0m: name 'n_steps_per_epoch' is not defined"
     ]
    }
   ],
   "source": [
    "# for piecewise constant scheduling\n",
    "\n",
    "learning_rate = keras.optimizers.schedules.PiecewiseConstantDecay(\n",
    "    boundaries=[5. * n_steps_per_epoch, 15. * n_steps_per_epoch],\n",
    "    values=[0.01, 0.005, 0.001])\n",
    "\n"
   ]
  },
  {
   "cell_type": "code",
   "execution_count": null,
   "metadata": {},
   "outputs": [],
   "source": [
    "## 1Cycle Scheduling\n",
    "\n"
   ]
  },
  {
   "cell_type": "markdown",
   "metadata": {},
   "source": [
    "### 11.1.4 Avoiding Overfitting through regularization\n",
    "\n",
    "1. l1 and l2 Regularization <br>\n",
    "    - in layers.Dense(...., kernel_init = ..., kernel_regularizer = keras.ergularizers.l2(0.01)))\n",
    "    \n",
    "\n",
    "2. Dropout <br>\n",
    "    - add layers.Dropout(rate=0.2) after .Dense()\n",
    "    - make neurons inactive (outputs zero)\n",
    "    - destructive technique but better results - in daily work life too ? randomly send workers home every morning ?\n",
    "\n",
    "3. MonteCarlo Dropout\n",
    "\n",
    "4. MaxNorm"
   ]
  },
  {
   "cell_type": "code",
   "execution_count": null,
   "metadata": {},
   "outputs": [],
   "source": []
  },
  {
   "cell_type": "code",
   "execution_count": null,
   "metadata": {},
   "outputs": [],
   "source": []
  },
  {
   "cell_type": "markdown",
   "metadata": {},
   "source": [
    "## Exercise :\n",
    "\n",
    "No. 8 Deep Learning on CIFAR10\n",
    "\n",
    "- build DNN with 20 hidden layers, 100 neurons He_uniform and activation=\"elu\"\n"
   ]
  },
  {
   "cell_type": "code",
   "execution_count": 21,
   "metadata": {},
   "outputs": [
    {
     "name": "stdout",
     "output_type": "stream",
     "text": [
      "Downloading data from https://www.cs.toronto.edu/~kriz/cifar-10-python.tar.gz\n",
      "170500096/170498071 [==============================] - 201s 1us/step\n"
     ]
    }
   ],
   "source": [
    "### setup\n",
    "\n",
    "import tensorflow as tf\n",
    "\n",
    "# clear backend cache\n",
    "keras.backend.clear_session()\n",
    "\n",
    "# for reproducability set seed(42)\n",
    "tf.random.set_seed(42)\n",
    "np.random.seed(42)\n",
    "\n",
    "\n",
    "\n",
    "\n",
    "## NO. 8 a) build model \n",
    "\n",
    "model = keras.models.Sequential()\n",
    "model.add(keras.layers.Flatten(input_shape = [32, 32, 3])) # 32 x 32 pixels and 3 for colors\n",
    "\n",
    "for layer in range(20):\n",
    "    model.add(keras.layers.Dense(100, \n",
    "                       activation=\"elu\",\n",
    "                      kernel_initializer= \"he_normal\"))\n",
    "    \n",
    "## No. 8 b)\n",
    "\n",
    "# add output layer to model (since 10 classes softmax function)\n",
    "model.add(keras.layers.Dense(10, activation = \"softmax\"))\n",
    "\n",
    "# get data\n",
    "(X_train_full, y_train_full), (X_test, y_test) = keras.datasets.cifar10.load_data()\n",
    "\n",
    "# split train set in valid set ?\n",
    "X_train = X_train_full[5000:]\n",
    "y_train = y_train_full[5000:]\n",
    "X_valid = X_train_full[:5000]\n",
    "y_valid = y_train_full[:5000]\n",
    "\n",
    "#  - Compile(opti = Nadam, etc )\n",
    "model.compile(loss = \"sparse_categorical_crossentropy\",\n",
    "              optimizer = keras.optimizers.Nadam(lr=5e-5, beta_1 = 0.9, beta_2 = 0.99),\n",
    "              metrics = [\"accuracy\"]\n",
    "             )\n",
    "#  define callbacks\n",
    "early_stopping = keras.callbacks.EarlyStopping(patience = 5,)\n",
    "model_checkpoint = keras.callbacks.ModelCheckpoint(\"my_cifar10_model.h5\",  save_best_only= True)\n",
    "\n",
    "run_index = 1 # ALWAYS INCREMENT manually !!!!!!!!!!!!!1\n",
    "run_logdir = os.path.join(os.curdir, \"my_cifar10_logs\", \"run_{:03d}\".format(run_index))\n",
    "tensorboard_cb = keras.callbacks.TensorBoard(run_logdir)\n",
    "\n"
   ]
  },
  {
   "cell_type": "code",
   "execution_count": 22,
   "metadata": {},
   "outputs": [
    {
     "data": {
      "text/plain": [
       "ERROR: Timed out waiting for TensorBoard to start. It may still be running as pid 16136."
      ]
     },
     "metadata": {},
     "output_type": "display_data"
    }
   ],
   "source": [
    "%tensorboard --logdir=./my_cifar10_logs --port=6006"
   ]
  },
  {
   "cell_type": "code",
   "execution_count": null,
   "metadata": {},
   "outputs": [],
   "source": [
    "model.fit(X_train, y_train, epochs=20,\n",
    "         validation_data=(X_valid, y_valid),\n",
    "         callbacks = [early_stopping, model_checkpoint, tensorboard_cb])"
   ]
  },
  {
   "cell_type": "code",
   "execution_count": 23,
   "metadata": {},
   "outputs": [
    {
     "name": "stdout",
     "output_type": "stream",
     "text": [
      "Train on 45000 samples, validate on 5000 samples\n",
      "Epoch 1/100\n",
      "45000/45000 [==============================] - 53s 1ms/sample - loss: 1.8487 - accuracy: 0.3380 - val_loss: 1.6449 - val_accuracy: 0.4122\n",
      "Epoch 2/100\n",
      "45000/45000 [==============================] - 35s 772us/sample - loss: 1.6679 - accuracy: 0.4053 - val_loss: 1.5977 - val_accuracy: 0.4248\n",
      "Epoch 3/100\n",
      "45000/45000 [==============================] - 36s 798us/sample - loss: 1.5985 - accuracy: 0.4314 - val_loss: 1.5244 - val_accuracy: 0.4512\n",
      "Epoch 4/100\n",
      "45000/45000 [==============================] - 36s 791us/sample - loss: 1.5461 - accuracy: 0.4506 - val_loss: 1.4796 - val_accuracy: 0.4734\n",
      "Epoch 5/100\n",
      "45000/45000 [==============================] - 35s 788us/sample - loss: 1.5099 - accuracy: 0.4643 - val_loss: 1.4376 - val_accuracy: 0.4904\n",
      "Epoch 6/100\n",
      "45000/45000 [==============================] - 36s 791us/sample - loss: 1.4709 - accuracy: 0.4793 - val_loss: 1.4287 - val_accuracy: 0.4870\n",
      "Epoch 7/100\n",
      "45000/45000 [==============================] - 36s 802us/sample - loss: 1.4415 - accuracy: 0.4905 - val_loss: 1.4094 - val_accuracy: 0.4962\n",
      "Epoch 8/100\n",
      "45000/45000 [==============================] - 39s 866us/sample - loss: 1.4138 - accuracy: 0.4973 - val_loss: 1.4158 - val_accuracy: 0.5024\n",
      "Epoch 9/100\n",
      "45000/45000 [==============================] - 40s 882us/sample - loss: 1.3847 - accuracy: 0.5091 - val_loss: 1.3961 - val_accuracy: 0.5020\n",
      "Epoch 10/100\n",
      "45000/45000 [==============================] - 40s 893us/sample - loss: 1.3603 - accuracy: 0.5209 - val_loss: 1.3727 - val_accuracy: 0.5120\n",
      "Epoch 11/100\n",
      "45000/45000 [==============================] - 39s 858us/sample - loss: 1.3395 - accuracy: 0.5260 - val_loss: 1.3650 - val_accuracy: 0.5216\n",
      "Epoch 12/100\n",
      "45000/45000 [==============================] - 37s 819us/sample - loss: 1.3204 - accuracy: 0.5329 - val_loss: 1.3799 - val_accuracy: 0.5174\n",
      "Epoch 13/100\n",
      "45000/45000 [==============================] - 39s 868us/sample - loss: 1.3023 - accuracy: 0.5405 - val_loss: 1.3666 - val_accuracy: 0.5216\n",
      "Epoch 14/100\n",
      "45000/45000 [==============================] - 41s 909us/sample - loss: 1.2809 - accuracy: 0.5445 - val_loss: 1.3580 - val_accuracy: 0.5212\n",
      "Epoch 15/100\n",
      "45000/45000 [==============================] - 40s 878us/sample - loss: 1.2663 - accuracy: 0.5540 - val_loss: 1.4015 - val_accuracy: 0.5084\n",
      "Epoch 16/100\n",
      "45000/45000 [==============================] - 39s 866us/sample - loss: 1.2466 - accuracy: 0.5589 - val_loss: 1.3747 - val_accuracy: 0.5222\n",
      "Epoch 17/100\n",
      "45000/45000 [==============================] - 37s 821us/sample - loss: 1.2295 - accuracy: 0.5668 - val_loss: 1.3459 - val_accuracy: 0.5310\n",
      "Epoch 18/100\n",
      "45000/45000 [==============================] - 40s 884us/sample - loss: 1.2174 - accuracy: 0.5707 - val_loss: 1.3279 - val_accuracy: 0.5392\n",
      "Epoch 19/100\n",
      "45000/45000 [==============================] - 37s 820us/sample - loss: 1.2000 - accuracy: 0.5762 - val_loss: 1.3266 - val_accuracy: 0.5368\n",
      "Epoch 20/100\n",
      "45000/45000 [==============================] - 36s 792us/sample - loss: 1.1897 - accuracy: 0.5802 - val_loss: 1.3506 - val_accuracy: 0.5306\n",
      "Epoch 21/100\n",
      "45000/45000 [==============================] - 35s 784us/sample - loss: 1.1794 - accuracy: 0.5844 - val_loss: 1.3351 - val_accuracy: 0.5320\n",
      "Epoch 22/100\n",
      "45000/45000 [==============================] - 37s 817us/sample - loss: 1.1638 - accuracy: 0.5884 - val_loss: 1.3423 - val_accuracy: 0.5342\n",
      "Epoch 23/100\n",
      "45000/45000 [==============================] - 35s 778us/sample - loss: 1.1495 - accuracy: 0.5947 - val_loss: 1.3361 - val_accuracy: 0.5372\n",
      "Epoch 24/100\n",
      "45000/45000 [==============================] - 36s 793us/sample - loss: 1.1375 - accuracy: 0.6001 - val_loss: 1.3256 - val_accuracy: 0.5344\n",
      "Epoch 25/100\n",
      "45000/45000 [==============================] - 36s 802us/sample - loss: 1.1237 - accuracy: 0.6031 - val_loss: 1.3517 - val_accuracy: 0.5250\n",
      "Epoch 26/100\n",
      "45000/45000 [==============================] - 36s 810us/sample - loss: 1.1140 - accuracy: 0.6056 - val_loss: 1.3445 - val_accuracy: 0.5328\n",
      "Epoch 27/100\n",
      "45000/45000 [==============================] - 36s 803us/sample - loss: 1.0979 - accuracy: 0.6152 - val_loss: 1.3834 - val_accuracy: 0.5260\n",
      "Epoch 28/100\n",
      "45000/45000 [==============================] - 36s 795us/sample - loss: 1.0933 - accuracy: 0.6160 - val_loss: 1.3798 - val_accuracy: 0.5250\n",
      "Epoch 29/100\n",
      "45000/45000 [==============================] - 36s 792us/sample - loss: 1.0766 - accuracy: 0.6174 - val_loss: 1.3429 - val_accuracy: 0.5414\n",
      "Epoch 30/100\n",
      "45000/45000 [==============================] - 37s 815us/sample - loss: 1.0704 - accuracy: 0.6239 - val_loss: 1.3847 - val_accuracy: 0.5262\n",
      "Epoch 31/100\n",
      "45000/45000 [==============================] - 38s 840us/sample - loss: 1.0574 - accuracy: 0.6249 - val_loss: 1.3526 - val_accuracy: 0.5398\n",
      "Epoch 32/100\n",
      "45000/45000 [==============================] - 36s 802us/sample - loss: 1.0483 - accuracy: 0.6306 - val_loss: 1.3633 - val_accuracy: 0.5342\n",
      "Epoch 33/100\n",
      "45000/45000 [==============================] - 37s 828us/sample - loss: 1.0415 - accuracy: 0.6316 - val_loss: 1.3486 - val_accuracy: 0.5450\n",
      "Epoch 34/100\n",
      "45000/45000 [==============================] - 36s 802us/sample - loss: 1.0246 - accuracy: 0.6393 - val_loss: 1.3459 - val_accuracy: 0.5460\n",
      "Epoch 35/100\n",
      "45000/45000 [==============================] - 38s 842us/sample - loss: 1.0240 - accuracy: 0.6399 - val_loss: 1.3857 - val_accuracy: 0.5320\n",
      "Epoch 36/100\n",
      "45000/45000 [==============================] - 38s 847us/sample - loss: 1.0066 - accuracy: 0.6444 - val_loss: 1.3514 - val_accuracy: 0.5388\n",
      "Epoch 37/100\n",
      "45000/45000 [==============================] - 37s 820us/sample - loss: 0.9983 - accuracy: 0.6486 - val_loss: 1.3745 - val_accuracy: 0.5318\n",
      "Epoch 38/100\n",
      "45000/45000 [==============================] - 37s 821us/sample - loss: 0.9899 - accuracy: 0.6509 - val_loss: 1.3783 - val_accuracy: 0.5374\n",
      "Epoch 39/100\n",
      "45000/45000 [==============================] - 40s 878us/sample - loss: 0.9853 - accuracy: 0.6531 - val_loss: 1.3858 - val_accuracy: 0.5364\n",
      "Epoch 40/100\n",
      "45000/45000 [==============================] - 37s 826us/sample - loss: 0.9727 - accuracy: 0.6549 - val_loss: 1.4061 - val_accuracy: 0.5262\n",
      "Epoch 41/100\n",
      "45000/45000 [==============================] - 37s 819us/sample - loss: 0.9575 - accuracy: 0.6609 - val_loss: 1.3971 - val_accuracy: 0.5312\n",
      "Epoch 42/100\n",
      "45000/45000 [==============================] - 36s 796us/sample - loss: 0.9598 - accuracy: 0.6626 - val_loss: 1.3991 - val_accuracy: 0.5318\n",
      "Epoch 43/100\n",
      "45000/45000 [==============================] - 36s 811us/sample - loss: 0.9452 - accuracy: 0.6654 - val_loss: 1.3555 - val_accuracy: 0.5462\n",
      "Epoch 44/100\n",
      "45000/45000 [==============================] - 12407s 276ms/sample - loss: 0.9346 - accuracy: 0.6674 - val_loss: 1.3696 - val_accuracy: 0.5418\n",
      "10000/10000 [==============================] - 3s 297us/sample - loss: 1.3459 - accuracy: 0.5268\n"
     ]
    },
    {
     "data": {
      "text/plain": [
       "[1.3459499521255494, 0.5268]"
      ]
     },
     "execution_count": 23,
     "metadata": {},
     "output_type": "execute_result"
    }
   ],
   "source": [
    "## Exercise 8 c)\n",
    "\n",
    "\n",
    "keras.backend.clear_session()\n",
    "tf.random.set_seed(42)\n",
    "np.random.seed(42)\n",
    "\n",
    "\n",
    "# 1) build the same Model with BN \n",
    "model = keras.models.Sequential()\n",
    "model.add(keras.layers.Flatten(input_shape = [32, 32, 3])) # 32 x 32 pixels and 3 for colors\n",
    "\n",
    "# first BN (for regularization)\n",
    "model.add(keras.layers.BatchNormalization())\n",
    "\n",
    "# for each hidden layer a BN (since after Dense Layer, Activation muss be seperated)\n",
    "for layer in range(20):\n",
    "    model.add(keras.layers.Dense(100,\n",
    "                      kernel_initializer= \"he_normal\"))\n",
    "    model.add(keras.layers.BatchNormalization())\n",
    "    model.add(keras.layers.Activation('elu'))\n",
    "    \n",
    "# last output layer same \n",
    "model.add(keras.layers.Dense(10, activation=\"softmax\"))\n",
    "\n",
    "# 2) compile, callbacks, and training same (except different name for logs)\n",
    "\n",
    "optimizer = keras.optimizers.Nadam(lr=5e-4)\n",
    "model.compile(loss=\"sparse_categorical_crossentropy\",\n",
    "              optimizer=optimizer,\n",
    "              metrics=[\"accuracy\"])\n",
    "\n",
    "early_stopping_cb = keras.callbacks.EarlyStopping(patience=20)\n",
    "model_checkpoint_cb = keras.callbacks.ModelCheckpoint(\"my_cifar10_bn_model.h5\", save_best_only=True)\n",
    "run_index = 1 # increment every time you train the model\n",
    "run_logdir = os.path.join(os.curdir, \"my_cifar10_logs\", \"run_bn_{:03d}\".format(run_index))\n",
    "tensorboard_cb = keras.callbacks.TensorBoard(run_logdir)\n",
    "callbacks = [early_stopping_cb, model_checkpoint_cb, tensorboard_cb]\n",
    "\n",
    "model.fit(X_train, y_train, epochs=100,\n",
    "          validation_data=(X_valid, y_valid),\n",
    "          callbacks=callbacks)\n",
    "\n",
    "# 3) load the best model and evaluate\n",
    "\n",
    "model = keras.models.load_model(\"my_cifar10_bn_model.h5\")\n",
    "model.evaluate(X_test, y_test)"
   ]
  },
  {
   "cell_type": "code",
   "execution_count": null,
   "metadata": {},
   "outputs": [],
   "source": [
    "## Exercise 8 d)\n",
    "\n",
    "# lecun initialization, no BN, \"selu\" and standardize data = (x - mean) / std\n",
    "keras.backend.clear_session()\n",
    "tf.random.set_seed(42)\n",
    "np.random.seed(42)\n",
    "\n",
    "# 1) model\n",
    "\n",
    "model = keras.models.Sequential()\n",
    "\n",
    "model.add(keras.layers.Flatten(input_shape= [32, 32, 3]))\n",
    "\n",
    "for layer in range(20):\n",
    "    model.add(keras.layers.Dense(100, kernel_initialization = 'lecun_normal',\n",
    "                                activation = 'selu'))\n",
    "model.add(keras.layers.Dense(10, activation = 'softmax'))\n",
    "\n",
    "optimizer = keras.optimizer.Nadam(lr = 7e-4)\n",
    "model.compile(loss = 'sparse_categorical_crossentropy',\n",
    "             optimizer = optimizer,\n",
    "             metrics = ['accuracy'])\n",
    "# callbacks\n",
    "early_stopping_cb = keras.callbacks.EarlyStopping(patience=20)\n",
    "model_checkpoint_cb = keras.callbacks.ModelCheckpoint(\"my_cifar10_selu_model.h5\", save_best_only=True)\n",
    "run_index = 1 # increment every time you train the model\n",
    "run_logdir = os.path.join(os.curdir, \"my_cifar10_logs\", \"run_selu_{:03d}\".format(run_index))\n",
    "tensorboard_cb = keras.callbacks.TensorBoard(run_logdir)\n",
    "callbacks = [early_stopping_cb, model_checkpoint_cb, tensorboard_cb]\n",
    "\n",
    "# standardize values\n",
    "\n",
    "x_mean = X_train.mean(axis=0)\n",
    "x_std = X_train.std(axis=0)\n",
    "\n",
    "X_train_scaled = (X_train - x_mean )/ x_std\n",
    "X_valid_scaled = (X_valid - x_mean) / x_std\n",
    "X_test_scaled = (X_test - x_mean ) / x_std\n",
    "\n",
    "\n",
    "# train model \n",
    "\n",
    "model.fit(X_train_scaled, y_train, epochs=100,\n",
    "         validation_data = (X_valid, y_valid),\n",
    "         callbacks = callbacks)\n",
    "\n",
    "# get best model and evaluate\n",
    "\n",
    "model = keras.models.load_model(\"my_cifar10_selu_model.h5\")\n",
    "model.evaluate()"
   ]
  },
  {
   "cell_type": "code",
   "execution_count": null,
   "metadata": {},
   "outputs": [],
   "source": [
    "## 8 e.)\n",
    "\n",
    "# use AlphaDropout\n",
    "\n",
    "# just add .... in for loop\n",
    "\n",
    "model.add(keras.layers.AlphaDropout(rate=0.2)) "
   ]
  }
 ],
 "metadata": {
  "kernelspec": {
   "display_name": "Python 3",
   "language": "python",
   "name": "python3"
  },
  "language_info": {
   "codemirror_mode": {
    "name": "ipython",
    "version": 3
   },
   "file_extension": ".py",
   "mimetype": "text/x-python",
   "name": "python",
   "nbconvert_exporter": "python",
   "pygments_lexer": "ipython3",
   "version": "3.7.7"
  }
 },
 "nbformat": 4,
 "nbformat_minor": 4
}
