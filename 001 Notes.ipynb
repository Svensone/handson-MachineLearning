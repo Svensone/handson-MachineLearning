{
 "cells": [
  {
   "cell_type": "markdown",
   "metadata": {},
   "source": [
    "9. Unsupervised Learning Methods\n",
    "\n",
    "    9.1.  Clustering\n",
    "    \n",
    "        9.1.1 K-Means\n",
    "            - The K-Means Algorithm\n",
    "            - Centroid initialization methods\n",
    "            - Accelerated K-Means and mini-batch Means\n",
    "            - Finding the optimal number of clusters\n",
    "        9.1.2 Limits of K-Means\n",
    "        9.1.3 Using Clustering  - Image Segmentation\n",
    "        9.1.4 Using Clustering - Preprocessing\n",
    "        9.1.5 Using Clustering - Semi-Supervised Learning\n",
    "        9.1.6 DBSCAN\n",
    "        9.1.7 Other Clustering Algoritms\n",
    "        \n",
    "        \n",
    "    9.2 Gaussian Mixture\n",
    "    \n",
    "        9.2.1 Anomaly Detection\n",
    "        9.2.2 Selecting the Number of clusters\n",
    "        9.2.3 Bayesian Gaussian Mixture\n",
    "        Other Algorithms for Anomaly Detection\n",
    "        \n",
    "    9.3 Exercise\n",
    "    \n",
    "        11. Olivetti Faces\n",
    "        11. Using CLustering for Preproc. Regression Model\n",
    "        13. Dim. Reduction for Anomaly Det. (recons. error)\n",
    "        \n",
    "        \n",
    "        \n",
    "        \n",
    "        \n",
    "        "
   ]
  },
  {
   "cell_type": "code",
   "execution_count": 3,
   "metadata": {},
   "outputs": [],
   "source": [
    "## Setup\n",
    "# To support both python 2 and python 3\n",
    "from __future__ import division, print_function, unicode_literals\n",
    "\n",
    "# Common imports\n",
    "import numpy as np\n",
    "import os\n",
    "\n",
    "# to make this notebook's output stable across runs\n",
    "np.random.seed(42)\n",
    "\n",
    "# To plot pretty figures\n",
    "%matplotlib inline\n",
    "import matplotlib as mpl\n",
    "import matplotlib.pyplot as plt\n",
    "mpl.rc('axes', labelsize=14)\n",
    "mpl.rc('xtick', labelsize=12)\n",
    "mpl.rc('ytick', labelsize=12)\n",
    "\n",
    "# Where to save the figures\n",
    "PROJECT_ROOT_DIR = \".\"\n",
    "CHAPTER_ID = \"ensembles\"\n",
    "\n",
    "def image_path(fig_id):\n",
    "    return os.path.join(PROJECT_ROOT_DIR, \"images\", CHAPTER_ID, fig_id)\n",
    "\n",
    "def save_fig(fig_id, tight_layout=True):\n",
    "    print(\"Saving figure\", fig_id)\n",
    "    if tight_layout:\n",
    "        plt.tight_layout()\n",
    "    plt.savefig(image_path(fig_id) + \".png\", format='png', dpi=300)"
   ]
  },
  {
   "cell_type": "markdown",
   "metadata": {},
   "source": [
    "# ALL DATA NOT AVAILABLE"
   ]
  },
  {
   "cell_type": "code",
   "execution_count": null,
   "metadata": {},
   "outputs": [],
   "source": [
    "from sklearn.cluster import KMeans\n",
    "\n",
    "k= 5\n",
    "kmeans = KMeans(n_clusters=k)\n",
    "y_pred = kmeans.fit_predict(DatasetX) #DatasetX not defined\n",
    "\n",
    "kmeans.labels_\n",
    "kmeans.cluster_centers\n",
    "\n",
    "# assign new data to nearest cluster\n",
    "X_new = np.array([[0, 2], [3, 2]])\n",
    "\n",
    "kmeans.predict(X_new)"
   ]
  },
  {
   "cell_type": "markdown",
   "metadata": {},
   "source": [
    "###  9.1.3 Using \n",
    "\n",
    "Setup\n"
   ]
  },
  {
   "cell_type": "code",
   "execution_count": 2,
   "metadata": {},
   "outputs": [],
   "source": []
  },
  {
   "cell_type": "code",
   "execution_count": null,
   "metadata": {},
   "outputs": [],
   "source": []
  }
 ],
 "metadata": {
  "kernelspec": {
   "display_name": "Python 3",
   "language": "python",
   "name": "python3"
  },
  "language_info": {
   "codemirror_mode": {
    "name": "ipython",
    "version": 3
   },
   "file_extension": ".py",
   "mimetype": "text/x-python",
   "name": "python",
   "nbconvert_exporter": "python",
   "pygments_lexer": "ipython3",
   "version": "3.7.6"
  }
 },
 "nbformat": 4,
 "nbformat_minor": 4
}
