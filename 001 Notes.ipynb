{
 "cells": [
  {
   "cell_type": "markdown",
   "metadata": {},
   "source": []
  },
  {
   "cell_type": "markdown",
   "metadata": {},
   "source": [
    "9. Unsupervised Learning Methods\n",
    "\n",
    "    9.1.  Clustering\n",
    "    \n",
    "        9.1.1 K-Means\n",
    "            - The K-Means Algorithm\n",
    "            - Centroid initialization methods\n",
    "            - Accelerated K-Means and mini-batch Means\n",
    "            - Finding the optimal number of clusters\n",
    "        9.1.2 Limits of K-Means\n",
    "        9.1.3 Using Clustering  - Image Segmentation\n",
    "        9.1.4 Using Clustering - Preprocessing\n",
    "        9.1.5 Using Clustering - Semi-Supervised Learning\n",
    "        9.1.6 DBSCAN\n",
    "        9.1.7 Other Clustering Algoritms\n",
    "        \n",
    "        \n",
    "    9.2 Gaussian Mixture\n",
    "    \n",
    "        9.2.1 Anomaly Detection\n",
    "        9.2.2 Selecting the Number of clusters\n",
    "        9.2.3 Bayesian Gaussian Mixture\n",
    "        Other Algorithms for Anomaly Detection\n",
    "        \n",
    "    9.3 Exercise\n",
    "    \n",
    "        11. Olivetti Faces\n",
    "        11. Using Clustering for Preproc. Regression Model\n",
    "        13. Dim. Reduction for Anomaly Det. (recons. error)\n",
    "        \n",
    "        "
   ]
  },
  {
   "cell_type": "markdown",
   "metadata": {},
   "source": [
    "## Part II : \n",
    "## Neural Networks and Deep Learning\n",
    "\n",
    "10. Introduction to ANN with Keras\n",
    "    10.1 From Biological to Artificial Neurons\n",
    "        10.1.1 Biological Neurons\n",
    "        10.1.2 Logical Computations with Neurons\n",
    "        10.4 The Perceptron\n",
    "        10.5 The MLP and Backpropagation\n",
    "        10.6 Regression MLPs\n",
    "        10.7 Classification MLPs\n",
    "        \n",
    "    10.2 Implementing MLP with Keras\n",
    "        10.2.1 Install tf\n",
    "        10.2.2 Build image classification using Sequential API\n",
    "        10.2.3 Build Regression MLP (cali housing data)\n",
    "        10.2.4 Functional API (multiple inputs / outputs)\n",
    "        10.2.5 Sublassing (Wide&DeepNN ) \n",
    "        "
   ]
  },
  {
   "cell_type": "markdown",
   "metadata": {},
   "source": []
  },
  {
   "cell_type": "code",
   "execution_count": null,
   "metadata": {},
   "outputs": [],
   "source": []
  },
  {
   "cell_type": "markdown",
   "metadata": {},
   "source": [
    "\n"
   ]
  },
  {
   "cell_type": "code",
   "execution_count": 2,
   "metadata": {},
   "outputs": [],
   "source": []
  },
  {
   "cell_type": "code",
   "execution_count": null,
   "metadata": {},
   "outputs": [],
   "source": []
  }
 ],
 "metadata": {
  "kernelspec": {
   "display_name": "Python 3",
   "language": "python",
   "name": "python3"
  },
  "language_info": {
   "codemirror_mode": {
    "name": "ipython",
    "version": 3
   },
   "file_extension": ".py",
   "mimetype": "text/x-python",
   "name": "python",
   "nbconvert_exporter": "python",
   "pygments_lexer": "ipython3",
   "version": "3.7.7"
  }
 },
 "nbformat": 4,
 "nbformat_minor": 4
}
